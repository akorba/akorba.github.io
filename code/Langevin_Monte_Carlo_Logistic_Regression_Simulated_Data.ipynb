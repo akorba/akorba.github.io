{
  "nbformat": 4,
  "nbformat_minor": 0,
  "metadata": {
    "colab": {
      "provenance": []
    },
    "kernelspec": {
      "name": "python3",
      "display_name": "Python 3"
    },
    "language_info": {
      "name": "python"
    }
  },
  "cells": [
    {
      "cell_type": "markdown",
      "source": [
        "#In this notebook, we perform numerical simulations for Bayesian logistic regression: we observe samples of pairs $\\{(\\boldsymbol{x}_n, y_n) \\}_{n=1}^N$, where $\\boldsymbol{x}_n\\in\\mathbb{R}^d$ and $y_n\\in\\{0,1\\}$. The data are assumed to follow the model\n",
        "$$\n",
        "y_n \\stackrel{\\text{i.i.d.}}{\\sim} \\mathrm{Bernoulli}\\!\\left( \\frac{\\exp(\\langle \\boldsymbol{\\theta}, \\boldsymbol{x}_n\\rangle)}{1+\\exp(\\langle \\boldsymbol{\\theta}, \\boldsymbol{x}_n\\rangle)}\\right)\n",
        "$$\n",
        "for $n\\in\\{1, \\ldots, N\\}$. The parameter $\\boldsymbol{\\theta} = (\\theta_i)_{1 \\leqslant i \\leqslant d}^\\top\\in\\mathbb{R}^d$ is a random variable with a prior density $\\lambda$ with respect to Lebesgue measure. Then, the posterior distribution $\\pi$ takes the form\n",
        "$$p(\\boldsymbol{\\theta}\\,|\\,\\{(\\boldsymbol{x}_n, y_n) \\}_{n=1}^N) \\propto p(\\boldsymbol{\\theta}) \\exp\\left\\lbrace\\sum_{n=1}^N \\left(y_n \\langle \\boldsymbol{\\theta}, \\boldsymbol{x}_n\\rangle - \\log (1 + \\exp(\\langle \\boldsymbol{\\theta}, \\boldsymbol{x}_n\\rangle)) \\right)\\right\\rbrace. $$\n",
        "\n",
        "We can consider the case of an anisotropic Laplace prior (sparsity-inducing) and a prior in the form of a combination of an anisotropic Laplace distribution and an anisotropic Gaussian distribution, where the unadjusted Langevin algorithm is no longer viable. In general, such priors take the form:\n",
        "$$ p(\\boldsymbol{\\theta})  : p(\\boldsymbol{\\theta}\\,|\\,\\boldsymbol{\\alpha}_1, \\boldsymbol{\\alpha}_2) \\propto \\exp\\left(- \\sum_{i=1}^d \\alpha_{1,i}|\\theta_i| - \\sum_{i=1}^d \\alpha_{2,i}\\theta_i^2 \\right) , $$\n",
        "where $\\boldsymbol{\\alpha}_1 = (\\alpha_{1,i})_{1\\le i\\le d}^\\top\\in\\mathbb{R}_+^d$ and  $\\boldsymbol{\\alpha}_2 = (\\alpha_{1,i})_{2\\le i\\le d}^\\top\\in\\mathbb{R}_+^d$.\n",
        "\n",
        "Then, the posterior distribution will have a potential in the following form:\n",
        "$$\n",
        "\\sum_{n=1}^N \\left[\\log (1 + \\exp(\\langle \\boldsymbol{\\theta}, \\boldsymbol{x}_n\\rangle)) - y_n \\langle \\boldsymbol{\\theta}, \\boldsymbol{x}_n\\rangle \\right] + \\sum_{i=1}^d \\alpha_{1,i}|\\theta_i| + \\sum_{i=1}^d \\alpha_{2,i}\\theta_i^2\n",
        "$$"
      ],
      "metadata": {
        "id": "ALi8kqDURj0y"
      }
    },
    {
      "cell_type": "code",
      "execution_count": 36,
      "metadata": {
        "colab": {
          "base_uri": "https://localhost:8080/",
          "height": 754
        },
        "id": "sS_2Z32KETiF",
        "outputId": "84cd1673-3fcb-4fe9-da0a-fed1d8233ff5"
      },
      "outputs": [
        {
          "output_type": "stream",
          "name": "stdout",
          "text": [
            "j = 0\n",
            "iteration 1: error = 3.687569016742729\n",
            "iteration 100: error = 1.4033560814277108\n",
            "iteration 200: error = 0.8970063876042934\n",
            "iteration 300: error = 0.7455746555980314\n",
            "iteration 400: error = 0.6444050277271787\n",
            "iteration 500: error = 0.6601492969124564\n",
            "iteration 600: error = 0.7954624000421162\n",
            "iteration 700: error = 0.57043266401736\n",
            "iteration 800: error = 0.6065047369697144\n",
            "iteration 900: error = 0.7111073022331884\n",
            "iteration 1000: error = 0.6075552011007709\n"
          ]
        },
        {
          "output_type": "execute_result",
          "data": {
            "text/plain": [
              "[<matplotlib.lines.Line2D at 0x7e6d2835b280>]"
            ]
          },
          "metadata": {},
          "execution_count": 36
        },
        {
          "output_type": "display_data",
          "data": {
            "text/plain": [
              "<Figure size 800x600 with 1 Axes>"
            ],
            "image/png": "[encoded data removed]"
          },
          "metadata": {}
        }
      ],
      "source": [
        "import matplotlib.pyplot as plt\n",
        "#plt.style.use('science')\n",
        "\n",
        "import numpy as np\n",
        "import pandas as pd\n",
        "import scipy\n",
        "import scipy.special\n",
        "from sklearn.model_selection import train_test_split\n",
        "\n",
        "\n",
        "from numpy.random import default_rng\n",
        "rng = default_rng()\n",
        "\n",
        "# Set random seed for reproducibility\n",
        "#np.random.seed(0)\n",
        "\n",
        "# simulation of data points\n",
        "\n",
        "d = 10\n",
        "N = 1000\n",
        "\n",
        "theta_star =  np.arange(10) / 10\n",
        "theta_star = np.repeat(theta_star, d/10)\n",
        "\n",
        "# Generate data\n",
        "X = np.random.randn(d, N)\n",
        "logit = np.exp(np.dot(theta_star, X)) / (1 + np.exp(np.dot(theta_star, X)))\n",
        "Y = np.random.binomial(1, logit)\n",
        "\n",
        "# Define the proportion of data to be used for testing\n",
        "test_size = 0.2\n",
        "\n",
        "# Split the data into training and testing sets\n",
        "X_train, X_test, Y_train, Y_test = train_test_split(X.T, Y, test_size=test_size, random_state=42)\n",
        "\n",
        "# Transpose X_train and X_test back to their original shapes\n",
        "X_train = X_train.T\n",
        "X_test = X_test.T\n",
        "\n",
        "X, Y = X_train, Y_train\n",
        "\n",
        "\n",
        "#Function to compute the gradient of the potential\n",
        "def grad_potential(theta: np.ndarray,\n",
        "                   X: np.ndarray,\n",
        "                   Y: np.ndarray) -> np.ndarray:\n",
        "    '''\n",
        "    theta: d by 1 vector: parameter of the Bayesian logistic regression model\n",
        "    X: d by N matrix: each column is X_n\n",
        "    Y: N by 1 vector: each entry is Y_n\n",
        "    '''\n",
        "    return - np.einsum('i,ji->j', Y - scipy.special.expit(np.dot(theta, X)), X)\n",
        "\n",
        "# Init\n",
        "\n",
        "# to induce sparsity change decomment these lines\n",
        "#alpha1 = np.arange(11)[11:0:-1]\n",
        "#alpha1 = np.repeat(alpha1, 10)\n",
        "#alpha2 = 0.1\n",
        "\n",
        "np.zeros(100)\n",
        "alpha2 = 0.5\n",
        "\n",
        "#ULA\n",
        "\n",
        "def ula(gamma, lam, alpha1, alpha2, X, Y, theta_star, seed, d=100, K=1000, print_freq=100):\n",
        "    np.random.seed(seed)\n",
        "    theta0 = np.random.normal(0, 1, d)\n",
        "    theta = []\n",
        "    error = []\n",
        "\n",
        "    for i in range(K):\n",
        "        xi = rng.multivariate_normal(np.zeros(d), np.eye(d))\n",
        "        theta_new = theta0 - gamma * grad_potential(theta0, X, Y) + np.sqrt(2*gamma) * xi\n",
        "        theta.append(theta_new)\n",
        "        error.append(np.linalg.norm(theta_new - theta_star))\n",
        "        if i == 0 or i % print_freq == print_freq - 1:\n",
        "            print('iteration {}: error = {}'.format(i + 1, np.linalg.norm(theta_new - theta_star)))\n",
        "        theta0 = theta_new\n",
        "\n",
        "    return theta, error\n",
        "\n",
        "# ULA Main Loop\n",
        "\n",
        "S = 1\n",
        "Theta1 = []\n",
        "Error1 = []\n",
        "\n",
        "K = 1000\n",
        "gamma = 5e-4\n",
        "gamma = 1e-4\n",
        "#gamma = 5e-5\n",
        "#gamma = 1e-5\n",
        "\n",
        "for j in range(S):\n",
        "    print('j =', j)\n",
        "    theta1, error1 = ula(gamma, 1e-2, alpha1, alpha2, X, Y, theta_star, j, d, K)\n",
        "    Theta1.append(theta1)\n",
        "    Error1.append(error1)\n",
        "\n",
        "theta1 = np.mean(np.array(Theta1), axis=0)\n",
        "error1 = np.array([np.linalg.norm(theta1[i] - theta_star) for i in range(K)])\n",
        "\n",
        "plt.figure(0, figsize=(8,6))\n",
        "plt.plot(np.arange(K), error1)"
      ]
    },
    {
      "cell_type": "code",
      "source": [
        "# compute the Bayesian Model Averaged predictions\n",
        "\n",
        "\n",
        "def predict_posterior_samples(theta_samples, X_test):\n",
        "    \"\"\"\n",
        "    Predict labels for test data using samples from the posterior distribution.\n",
        "\n",
        "    Parameters:\n",
        "        theta_samples (ndarray): Samples from the posterior distribution of parameters.\n",
        "        X_test (ndarray): Test data features.\n",
        "\n",
        "    Returns:\n",
        "        ndarray: Predicted labels for test data.\n",
        "    \"\"\"\n",
        "    num_samples = len(theta_samples)\n",
        "    num_test_points = X_test.shape[1]\n",
        "    predictions = np.zeros(num_test_points)\n",
        "\n",
        "    for theta in theta_samples:\n",
        "        logit = np.exp(np.dot(theta, X_test)) / (1 + np.exp(np.dot(theta, X_test)))\n",
        "        sample_predictions = (logit > 0.5).astype(int)\n",
        "        predictions += sample_predictions\n",
        "\n",
        "    average_predictions = predictions / num_samples\n",
        "    return np.round(average_predictions)\n",
        "\n",
        "\n",
        "# Assuming you have your test data in X_test and true labels in Y_test\n",
        "# Predict labels using posterior samples\n",
        "predicted_labels = predict_posterior_samples(theta1, X_test)\n",
        "\n",
        "# Compute accuracy\n",
        "accuracy = np.mean(predicted_labels == Y_test)\n",
        "print(\"Accuracy:\", accuracy)\n",
        "\n"
      ],
      "metadata": {
        "colab": {
          "base_uri": "https://localhost:8080/"
        },
        "id": "wJpptJxCTHlM",
        "outputId": "4b3a58a2-f268-4940-93c9-d769463c5b15"
      },
      "execution_count": 37,
      "outputs": [
        {
          "output_type": "stream",
          "name": "stdout",
          "text": [
            "Accuracy: 0.72\n"
          ]
        }
      ]
    },
    {
      "cell_type": "markdown",
      "source": [
        "1) You can play with different hyperparameters: the dimension of the problem, the step-size, the number of iterations. How does the algorithm behave? You should notice similar problems as for gradient descent.\n",
        "\n",
        "2) You can go further by playing with the sparsity of the prior distribution and test the Moreau-Yosida version of LMC (see https://github.com/timlautk/bregman_prox_langevin_mc/blob/main/notebook/sampling_bayesian_logistic_reg.ipynb)."
      ],
      "metadata": {
        "id": "szg6sdWti3Ti"
      }
    }
  ]
}